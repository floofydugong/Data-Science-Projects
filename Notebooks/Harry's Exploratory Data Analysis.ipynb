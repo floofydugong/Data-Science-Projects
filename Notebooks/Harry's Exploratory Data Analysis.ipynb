{
 "cells": [
  {
   "cell_type": "markdown",
   "metadata": {},
   "source": [
    "**Background:** This analysis was completed for the Harry's Analaytics Engineer take home assessment. The objective of this analysis was to derive insights from the competitor's (@gillette, @dollarshaveclub, @SchickHydro) Twitter Data.\n",
    "\n",
    "**Setup:** I setup a script to run over night to grab twitter data from aforementioned competitors. I then stored it into an PostgreSQL hosted by AWS. From there, I then extracted the data in Jupyter via SQLAlchemy.\n",
    "\n",
    "**Data Source:** Twitter\n",
    "\n",
    "**Methodology:** EDA\n",
    "\n",
    "**Technologies Used:** \n",
    "* Python3\n",
    "* Jupyter Notebook\n",
    "* AWS\n",
    "* Twitter REST API\n",
    "* PostgreSQL"
   ]
  },
  {
   "cell_type": "code",
   "execution_count": 6,
   "metadata": {
    "collapsed": true
   },
   "outputs": [],
   "source": [
    "## Imports\n",
    "\n",
    "import pandas as pd\n",
    "import matplotlib.pyplot as plt\n",
    "\n",
    "import pprint\n",
    "\n",
    "%matplotlib inline"
   ]
  },
  {
   "cell_type": "code",
   "execution_count": null,
   "metadata": {
    "collapsed": true
   },
   "outputs": [],
   "source": []
  },
  {
   "cell_type": "code",
   "execution_count": null,
   "metadata": {
    "collapsed": true
   },
   "outputs": [],
   "source": []
  }
 ],
 "metadata": {
  "kernelspec": {
   "display_name": "Python 3",
   "language": "python",
   "name": "python3"
  },
  "language_info": {
   "codemirror_mode": {
    "name": "ipython",
    "version": 3
   },
   "file_extension": ".py",
   "mimetype": "text/x-python",
   "name": "python",
   "nbconvert_exporter": "python",
   "pygments_lexer": "ipython3",
   "version": "3.5.2"
  }
 },
 "nbformat": 4,
 "nbformat_minor": 0
}
