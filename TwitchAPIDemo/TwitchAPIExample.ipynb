{
 "cells": [
  {
   "cell_type": "code",
   "execution_count": 3,
   "metadata": {
    "collapsed": false
   },
   "outputs": [],
   "source": [
    "# General\n",
    "import os\n",
    "from pprint import pprint\n",
    "\n",
    "# Requests\n",
    "import urllib\n",
    "\n",
    "# Timer\n",
    "from ipywidgets import FloatProgress\n",
    "from IPython.display import display\n",
    "import time\n",
    "from time import sleep\n",
    "\n",
    "# JSON\n",
    "import ijson\n",
    "import json\n",
    "import simplejson\n",
    "\n",
    "# Data Analysis\n",
    "import pandas as pd"
   ]
  },
  {
   "cell_type": "markdown",
   "metadata": {},
   "source": [
    "## Why Twitch API is great\n",
    "- Documentation is on point\n",
    "- Easy to use\n",
    "- No limits(At least that I know of...)\n",
    "- No Authentication"
   ]
  },
  {
   "cell_type": "markdown",
   "metadata": {},
   "source": [
    "## Reference Documentation\n",
    "- [Twitch API]('https://github.com/justintv/Twitch-API') "
   ]
  },
  {
   "cell_type": "markdown",
   "metadata": {},
   "source": [
    "## Browser Example\n",
    "https://api.twitch.tv/kraken/channels/dota2ti"
   ]
  },
  {
   "cell_type": "markdown",
   "metadata": {},
   "source": [
    "## cURL Example\n",
    "- Computer software project providing a library and command-line tool for transferring data using various protocols"
   ]
  },
  {
   "cell_type": "code",
   "execution_count": 1,
   "metadata": {
    "collapsed": false
   },
   "outputs": [
    {
     "name": "stdout",
     "output_type": "stream",
     "text": [
      "  % Total    % Received % Xferd  Average Speed   Time    Time     Time  Current\n",
      "                                 Dload  Upload   Total   Spent    Left  Speed\n",
      "100  1284  100  1284    0     0   1673      0 --:--:-- --:--:-- --:--:--  1671\n"
     ]
    }
   ],
   "source": [
    "!curl -H 'Accept: application/vnd.twitchtv.v3+json' -X GET https://api.twitch.tv/kraken/channels/dota2ti >> look_at_me.json"
   ]
  },
  {
   "cell_type": "code",
   "execution_count": 4,
   "metadata": {
    "collapsed": false
   },
   "outputs": [
    {
     "name": "stdout",
     "output_type": "stream",
     "text": [
      "{'_id': 35630634,\n",
      " '_links': {'chat': 'https://api.twitch.tv/kraken/chat/dota2ti',\n",
      "            'commercial': 'https://api.twitch.tv/kraken/channels/dota2ti/commercial',\n",
      "            'editors': 'https://api.twitch.tv/kraken/channels/dota2ti/editors',\n",
      "            'follows': 'https://api.twitch.tv/kraken/channels/dota2ti/follows',\n",
      "            'self': 'https://api.twitch.tv/kraken/channels/dota2ti',\n",
      "            'stream_key': 'https://api.twitch.tv/kraken/channels/dota2ti/stream_key',\n",
      "            'subscriptions': 'https://api.twitch.tv/kraken/channels/dota2ti/subscriptions',\n",
      "            'teams': 'https://api.twitch.tv/kraken/channels/dota2ti/teams',\n",
      "            'videos': 'https://api.twitch.tv/kraken/channels/dota2ti/videos'},\n",
      " 'background': None,\n",
      " 'banner': None,\n",
      " 'broadcaster_language': 'en',\n",
      " 'created_at': '2012-08-22T19:36:29Z',\n",
      " 'delay': None,\n",
      " 'display_name': 'dota2ti',\n",
      " 'followers': 222958,\n",
      " 'game': 'Dota 2',\n",
      " 'language': 'ko',\n",
      " 'logo': 'https://static-cdn.jtvnw.net/jtv_user_pictures/dota2ti-profile_image-983e9f5211adb185-300x300.png',\n",
      " 'mature': False,\n",
      " 'name': 'dota2ti',\n",
      " 'partner': True,\n",
      " 'profile_banner': None,\n",
      " 'profile_banner_background_color': None,\n",
      " 'status': 'The International 2016 - Main Event Day 6',\n",
      " 'updated_at': '2016-09-14T20:36:01Z',\n",
      " 'url': 'https://www.twitch.tv/dota2ti',\n",
      " 'video_banner': 'https://static-cdn.jtvnw.net/jtv_user_pictures/dota2ti-channel_offline_image-6bb599dd660d7093-1920x1080.jpeg',\n",
      " 'views': 100514931}\n"
     ]
    }
   ],
   "source": [
    "# Reading the JSON File\n",
    "with open('look_at_me.json') as data_file:    \n",
    "    data = json.load(data_file)\n",
    "pprint(data)"
   ]
  },
  {
   "cell_type": "markdown",
   "metadata": {},
   "source": [
    "## urllib Example"
   ]
  },
  {
   "cell_type": "code",
   "execution_count": 5,
   "metadata": {
    "collapsed": false
   },
   "outputs": [],
   "source": [
    "# Change to Twitch JSON Files Folder\n",
    "os.chdir(\"/Users/Hayw1re/Documents/Data_Science_Projects/TwitchAPIDemo/TwitchJSONFiles\")   "
   ]
  },
  {
   "cell_type": "code",
   "execution_count": 6,
   "metadata": {
    "collapsed": true
   },
   "outputs": [],
   "source": [
    "list_of_channels = ['dota2ti',\n",
    "                    'DotaMajor',\n",
    "                    'AftonbladetEsport',\n",
    "                    'ti5sange',\n",
    "                    'epicenter_en1',\n",
    "                    'DreamLeague',\n",
    "                    'D2L',\n",
    "                    'DreadzTV',\n",
    "                    'gamestarstv',\n",
    "                    'dota2ti_3',\n",
    "                    'dota2ti_2',\n",
    "                    'Dendi',\n",
    "                    'DotaMajor2',\n",
    "                    'Arteezy',\n",
    "                    'WePlayDota2']"
   ]
  },
  {
   "cell_type": "code",
   "execution_count": 7,
   "metadata": {
    "collapsed": false
   },
   "outputs": [
    {
     "name": "stdout",
     "output_type": "stream",
     "text": [
      "All Done with pulling list of broadcasts!\n"
     ]
    }
   ],
   "source": [
    "# Retrieve List of Broadcasts First\n",
    "\n",
    "f = FloatProgress(min=0, max=len(list_of_channels))\n",
    "display(f)\n",
    "f.value = 0\n",
    "for channel in list_of_channels:\n",
    "    try:\n",
    "        limit = 100\n",
    "        offset = 0\n",
    "        response = urllib.request.urlopen(\"https://api.twitch.tv/kraken/channels/dota2ti/videos?limit=100&offset=0\")\n",
    "        json_data = simplejson.load(response, encoding='UTF-8')\n",
    "        filename = channel+\"_broadcasts\"+\".json\"\n",
    "        with open(filename, 'w') as outfile:\n",
    "            json.dump(json_data, outfile, sort_keys = True, indent = 4, ensure_ascii=False)\n",
    "    except:\n",
    "        print(\"Failed to grab data from :\" + channel)\n",
    "#     print(\"Done with :\", channel)\n",
    "    f.value = f.value+1\n",
    "print(\"All Done with pulling list of broadcasts!\")"
   ]
  },
  {
   "cell_type": "code",
   "execution_count": 8,
   "metadata": {
    "collapsed": true
   },
   "outputs": [],
   "source": [
    "# Review Files in Explorer\n",
    "!open ."
   ]
  },
  {
   "cell_type": "markdown",
   "metadata": {},
   "source": [
    "## Lazily Iterate Through JSON File"
   ]
  },
  {
   "cell_type": "code",
   "execution_count": 9,
   "metadata": {
    "collapsed": false
   },
   "outputs": [
    {
     "name": "stdout",
     "output_type": "stream",
     "text": [
      "{\r\n",
      "    \"_links\": {\r\n",
      "        \"next\": \"https://api.twitch.tv/kraken/channels/dota2ti/videos?limit=100&offset=100\",\r\n",
      "        \"self\": \"https://api.twitch.tv/kraken/channels/dota2ti/videos?limit=100&offset=0\"\r\n",
      "    },\r\n",
      "    \"_total\": 215,\r\n",
      "    \"videos\": [\r\n",
      "        {\r\n",
      "            \"_id\": \"v82681239\",\r\n",
      "            \"_links\": {\r\n",
      "                \"channel\": \"https://api.twitch.tv/kraken/channels/dota2ti\",\r\n",
      "                \"self\": \"https://api.twitch.tv/kraken/videos/v82681239\"\r\n",
      "            },\r\n",
      "            \"animated_preview\": \"https://vod-storyboards.twitch.tv/43b9b91b23_dota2ti_22724407664_497273103/storyboards/82681239-gif.gif\",\r\n",
      "            \"broadcast_id\": 22724407664,\r\n",
      "            \"broadcast_type\": \"highlight\",\r\n",
      "            \"channel\": {\r\n",
      "                \"display_name\": \"dota2ti\",\r\n",
      "                \"name\": \"dota2ti\"\r\n",
      "            },\r\n",
      "            \"created_at\": \"2016-08-09T21:01:43Z\",\r\n",
      "            \"description\": \"\",\r\n",
      "            \"fps\": {\r\n",
      "                \"144p30\": 30.0005696671245,\r\n",
      "                \"240p30\": 30.0005696671245"
     ]
    }
   ],
   "source": [
    "!head -c 1000 dota2ti_2_broadcasts.json"
   ]
  },
  {
   "cell_type": "code",
   "execution_count": 10,
   "metadata": {
    "collapsed": false
   },
   "outputs": [
    {
     "name": "stdout",
     "output_type": "stream",
     "text": [
      "['https://api.twitch.tv/kraken/videos/v82681239',\n",
      " 'https://api.twitch.tv/kraken/videos/v10177434',\n",
      " 'https://api.twitch.tv/kraken/videos/v10214882',\n",
      " 'https://api.twitch.tv/kraken/videos/v10198188',\n",
      " 'https://api.twitch.tv/kraken/videos/v10218720',\n",
      " 'https://api.twitch.tv/kraken/videos/v10214697',\n",
      " 'https://api.twitch.tv/kraken/videos/v10183804',\n",
      " 'https://api.twitch.tv/kraken/videos/v10177708',\n",
      " 'https://api.twitch.tv/kraken/videos/v10083254',\n",
      " 'https://api.twitch.tv/kraken/videos/v10083511']\n"
     ]
    }
   ],
   "source": [
    "with open('dota2ti_2_broadcasts.json', 'r') as f:\n",
    "    objects = ijson.items(f, \"videos.item._links.self\")\n",
    "    list_of_vid_ids = list(objects)\n",
    "# print a preview\n",
    "pprint(list_of_vid_ids[0:10])"
   ]
  },
  {
   "cell_type": "code",
   "execution_count": 11,
   "metadata": {
    "collapsed": false
   },
   "outputs": [
    {
     "data": {
      "text/html": [
       "<div>\n",
       "<table border=\"1\" class=\"dataframe\">\n",
       "  <thead>\n",
       "    <tr style=\"text-align: right;\">\n",
       "      <th></th>\n",
       "      <th>VideoID</th>\n",
       "    </tr>\n",
       "  </thead>\n",
       "  <tbody>\n",
       "    <tr>\n",
       "      <th>0</th>\n",
       "      <td>v82681239</td>\n",
       "    </tr>\n",
       "    <tr>\n",
       "      <th>1</th>\n",
       "      <td>v10177434</td>\n",
       "    </tr>\n",
       "    <tr>\n",
       "      <th>2</th>\n",
       "      <td>v10214882</td>\n",
       "    </tr>\n",
       "    <tr>\n",
       "      <th>3</th>\n",
       "      <td>v10198188</td>\n",
       "    </tr>\n",
       "    <tr>\n",
       "      <th>4</th>\n",
       "      <td>v10218720</td>\n",
       "    </tr>\n",
       "    <tr>\n",
       "      <th>5</th>\n",
       "      <td>v10214697</td>\n",
       "    </tr>\n",
       "    <tr>\n",
       "      <th>6</th>\n",
       "      <td>v10183804</td>\n",
       "    </tr>\n",
       "    <tr>\n",
       "      <th>7</th>\n",
       "      <td>v10177708</td>\n",
       "    </tr>\n",
       "    <tr>\n",
       "      <th>8</th>\n",
       "      <td>v10083254</td>\n",
       "    </tr>\n",
       "    <tr>\n",
       "      <th>9</th>\n",
       "      <td>v10083511</td>\n",
       "    </tr>\n",
       "  </tbody>\n",
       "</table>\n",
       "</div>"
      ],
      "text/plain": [
       "     VideoID\n",
       "0  v82681239\n",
       "1  v10177434\n",
       "2  v10214882\n",
       "3  v10198188\n",
       "4  v10218720\n",
       "5  v10214697\n",
       "6  v10183804\n",
       "7  v10177708\n",
       "8  v10083254\n",
       "9  v10083511"
      ]
     },
     "execution_count": 11,
     "metadata": {},
     "output_type": "execute_result"
    }
   ],
   "source": [
    "with open('dota2ti_2_broadcasts.json', 'r') as f:\n",
    "    objects = ijson.items(f, 'videos.item._id')\n",
    "    list_of_vid_ids = list(objects)\n",
    "video_id_df = pd.DataFrame(list_of_vid_ids,columns=[\"VideoID\"])\n",
    "video_id_df.head(10)"
   ]
  }
 ],
 "metadata": {
  "kernelspec": {
   "display_name": "Python 3",
   "language": "python",
   "name": "python3"
  },
  "language_info": {
   "codemirror_mode": {
    "name": "ipython",
    "version": 3
   },
   "file_extension": ".py",
   "mimetype": "text/x-python",
   "name": "python",
   "nbconvert_exporter": "python",
   "pygments_lexer": "ipython3",
   "version": "3.5.2"
  }
 },
 "nbformat": 4,
 "nbformat_minor": 0
}
