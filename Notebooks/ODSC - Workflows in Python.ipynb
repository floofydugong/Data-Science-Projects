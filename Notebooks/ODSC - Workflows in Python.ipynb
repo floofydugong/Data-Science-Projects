{
 "cells": [
  {
   "cell_type": "markdown",
   "metadata": {},
   "source": [
    "# Workflows in Python\n",
    "Description : This notebook was made to following along with the articles written by Caitlin Malone for ODSC. Through these articles, Caitlin works with data collected for the "
   ]
  },
  {
   "cell_type": "markdown",
   "metadata": {},
   "source": [
    "## Workflows in Python Part 1: Preprocessing Data\n",
    "[Link to Part 1](https://www.opendatascience.com/blog/preprocessing-data-a-python-workflow-part-1/)"
   ]
  },
  {
   "cell_type": "code",
   "execution_count": 6,
   "metadata": {
    "collapsed": true
   },
   "outputs": [],
   "source": [
    "# Imports\n",
    "import pandas as pd\n",
    "import numpy as np\n"
   ]
  },
  {
   "cell_type": "code",
   "execution_count": 15,
   "metadata": {
    "collapsed": false
   },
   "outputs": [],
   "source": [
    "# Getting the data\n",
    "features_df = pd.read_csv('https://s3.amazonaws.com/drivendata/data/7/public/4910797b-ee55-40a7-8668-10efd5c1b960.csv')\n",
    "labels_df = pd.read_csv('https://s3.amazonaws.com/drivendata/data/7/public/0bf8bc6e-30d0-4c50-956a-603fc693d966.csv')\n",
    "test_set_values = pd.read_csv('https://s3.amazonaws.com/drivendata/data/7/public/702ddfc5-68cd-4d1d-a0de-f5f566f76d91.csv')"
   ]
  },
  {
   "cell_type": "code",
   "execution_count": 18,
   "metadata": {
    "collapsed": false
   },
   "outputs": [
    {
     "name": "stdout",
     "output_type": "stream",
     "text": [
      "<class 'pandas.core.frame.DataFrame'>\n",
      "RangeIndex: 59400 entries, 0 to 59399\n",
      "Data columns (total 2 columns):\n",
      "id              59400 non-null int64\n",
      "status_group    59400 non-null object\n",
      "dtypes: int64(1), object(1)\n",
      "memory usage: 928.2+ KB\n"
     ]
    }
   ],
   "source": [
    "labels_df.info()"
   ]
  },
  {
   "cell_type": "code",
   "execution_count": 19,
   "metadata": {
    "collapsed": false
   },
   "outputs": [
    {
     "name": "stdout",
     "output_type": "stream",
     "text": [
      "       id             status_group\n",
      "0   69572               functional\n",
      "1    8776               functional\n",
      "2   34310               functional\n",
      "3   67743           non functional\n",
      "4   19728               functional\n",
      "5    9944               functional\n",
      "6   19816           non functional\n",
      "7   54551           non functional\n",
      "8   53934           non functional\n",
      "9   46144               functional\n",
      "10  49056               functional\n",
      "11  50409               functional\n",
      "12  36957               functional\n",
      "13  50495               functional\n",
      "14  53752               functional\n",
      "15  61848               functional\n",
      "16  48451           non functional\n",
      "17  58155           non functional\n",
      "18  34169  functional needs repair\n",
      "19  18274               functional\n"
     ]
    }
   ],
   "source": [
    "print( labels_df.head(20) )"
   ]
  },
  {
   "cell_type": "raw",
   "metadata": {},
   "source": [
    "#Mapping\n",
    "“non functional” = 0\n",
    "“functional needs repair” = 1\n",
    "“functional” = 2"
   ]
  },
  {
   "cell_type": "code",
   "execution_count": null,
   "metadata": {
    "collapsed": true
   },
   "outputs": [],
   "source": []
  }
 ],
 "metadata": {
  "kernelspec": {
   "display_name": "Python 3",
   "language": "python",
   "name": "python3"
  },
  "language_info": {
   "codemirror_mode": {
    "name": "ipython",
    "version": 3
   },
   "file_extension": ".py",
   "mimetype": "text/x-python",
   "name": "python",
   "nbconvert_exporter": "python",
   "pygments_lexer": "ipython3",
   "version": "3.5.2"
  }
 },
 "nbformat": 4,
 "nbformat_minor": 0
}
